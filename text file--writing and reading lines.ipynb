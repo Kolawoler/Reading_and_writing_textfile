{
 "cells": [
  {
   "cell_type": "code",
   "execution_count": 1,
   "id": "6dd82391",
   "metadata": {},
   "outputs": [],
   "source": [
    "#i am reading and writting to the object file, the object file has numerous methods like read, readlines,\n",
    "#and also close file amng others"
   ]
  },
  {
   "cell_type": "code",
   "execution_count": 94,
   "id": "fbb8f219",
   "metadata": {},
   "outputs": [
    {
     "name": "stdout",
     "output_type": "stream",
     "text": [
      "Quod equid\n",
      "equidem no\n"
     ]
    }
   ],
   "source": [
    "with open('sample3.txt','r') as fr:\n",
    "    with open('text_2.text','w') as fb:\n",
    "        \n",
    "    #fr_conc = fr.readlines()\n",
    "    #fp = fr_conc[:4]\n",
    "    #for j in fp:\n",
    "     #   print(j,end = '')\n",
    "    #print(type(fp))\n",
    "    \n",
    "       \"\"\"in other words when printing the first few lines , its important we use class object\n",
    "       method of readlines, as this return each  lines in list \n",
    "       and from there, each line corresponding to each first element of a list\n",
    "       but remember this would return the last character of each line as a \\n character, so u have \n",
    "       to remove that by looping for each elemt and setting every loop to end = ''\"\"\"\n",
    "    \n",
    "    \"\"\"f_con = fr.readlines()\n",
    "    print(f_con[-1])\"\"\"\n",
    "    \n",
    "        \n",
    "    \n",
    "    \"\"\"when you are also accessing the first five few xters of the text file,then you use fr.read()\n",
    "    and loop from then, if you set the same in readlines method,it doesnt accept that\"\"\"\n",
    "    set_me = 10\n",
    "    \"\"\"fr_conc = fr.read(set_me)\n",
    "    print(fr_conc,end = '')\n",
    "    #for fj in fr_conc:\n",
    "    #    print(fj,end='')\"\"\"\n",
    "    fr_conc = fr.read(set_me)\n",
    "    print(fr_conc)\n",
    "    fr.seek(5)\n",
    "    fr_conc = fr.read(set_me)\n",
    "    print(fr_conc)\n",
    "    #fr_conc = fr.read(set_me)\n",
    "    #print(fr_conc)\n",
    "   # print(fr.tell())\n",
    "    #fr_conc = fr.read(set_me)\n",
    "   # print(fr.tell())\n",
    "    \n",
    "    \n",
    "    \"\"\"fr_conc = fr.read(set_me)\n",
    "    while len(fr_conc) > 0:\n",
    "        print(fr_conc)\n",
    "        fr_conc = fr.read(set_me)\"\"\" "
   ]
  },
  {
   "cell_type": "code",
   "execution_count": 4,
   "id": "1a018828",
   "metadata": {},
   "outputs": [
    {
     "name": "stdout",
     "output_type": "stream",
     "text": [
      "Quod equidem non reprehendo;\n",
      "Lorem ipsum dolor sit amet, consectetur adipiscing elit. Quibus natura iure responderit non esse verum aliunde finem beate vivendi, a se principia rei gerendae peti; Quae enim adhuc protulisti, popularia sunt, ego autem a te elegantiora desidero. Duo Reges: constructio interrete. Tum Lucius: Mihi vero ista valde probata sunt, quod item fratri puto. Bestiarum vero nullum iudicium puto. Nihil enim iam habes, quod ad corpus referas; Deinde prima illa, quae in congressu solemus: Quid tu, inquit, huc? Et homini, qui ceteris animantibus plurimum praestat, praecipue a natura nihil datum esse dicemus?\n",
      "\n",
      "Iam id ipsum absurdum, maximum malum neglegi. Quod ea non occurrentia fingunt, vincunt Aristonem; Atqui perspicuum est hominem e corpore animoque constare, cum primae sint animi partes, secundae corporis. Fieri, inquam, Triari, nullo pacto potest, ut non dicas, quid non probes eius, a quo dissentias. Equidem e Cn. An dubium est, quin virtus ita maximam partem optineat in rebus humanis, ut reliquas obruat?\n",
      "\n",
      "Quis istum dolorem timet?\n",
      "Summus dolor plures dies manere non potest? Dicet pro me ipsa virtus nec dubitabit isti vestro beato M. Tubulum fuisse, qua illum, cuius is condemnatus est rogatione, P. Quod si ita sit, cur opera philosophiae sit danda nescio.\n",
      "\n",
      "Ex eorum enim scriptis et institutis cum omnis doctrina liberalis, omnis historia.\n",
      "Quod si ita est, sequitur id ipsum, quod te velle video, omnes semper beatos esse sapientes. Cum enim fertur quasi torrens oratio, quamvis multa cuiusque modi rapiat, nihil tamen teneas, nihil apprehendas, nusquam orationem rapidam coerceas. Ita redarguitur ipse a sese, convincunturque scripta eius probitate ipsius ac moribus. At quanta conantur! Mundum hunc omnem oppidum esse nostrum! Incendi igitur eos, qui audiunt, vides. Vide, ne magis, inquam, tuum fuerit, cum re idem tibi, quod mihi, videretur, non nova te rebus nomina inponere. Qui-vere falsone, quaerere mittimus-dicitur oculis se privasse; Si ista mala sunt, in quae potest incidere sapiens, sapientem esse non esse ad beate vivendum satis. At vero si ad vitem sensus accesserit, ut appetitum quendam habeat et per se ipsa moveatur, quid facturam putas?\n",
      "\n",
      "Quem si tenueris, non modo meum Ciceronem, sed etiam me ipsum abducas licebit.\n",
      "Stulti autem malorum memoria torquentur, sapientes bona praeterita grata recordatione renovata delectant.\n",
      "Esse enim quam vellet iniquus iustus poterat inpune.\n",
      "Quae autem natura suae primae institutionis oblita est?\n",
      "Verum tamen cum de rebus grandioribus dicas, ipsae res verba rapiunt;\n",
      "Hoc est non modo cor non habere, sed ne palatum quidem.\n",
      "Voluptatem cum summum bonum diceret, primum in eo ipso parum vidit, deinde hoc quoque alienum; Sed tu istuc dixti bene Latine, parum plane. Nam haec ipsa mihi erunt in promptu, quae modo audivi, nec ante aggrediar, quam te ab istis, quos dicis, instructum videro. Fatebuntur Stoici haec omnia dicta esse praeclare, neque eam causam Zenoni desciscendi fuisse. Non autem hoc: igitur ne illud quidem. Ratio quidem vestra sic cogit. Cum audissem Antiochum, Brute, ut solebam, cum M. An quod ita callida est, ut optime possit architectari voluptates?\n",
      "\n",
      "Idemne, quod iucunde?\n",
      "Haec mihi videtur delicatior, ut ita dicam, molliorque ratio, quam virtutis vis gravitasque postulat. Sed quoniam et advesperascit et mihi ad villam revertendum est, nunc quidem hactenus; Cuius ad naturam apta ratio vera illa et summa lex a philosophis dicitur. Neque solum ea communia, verum etiam paria esse dixerunt. Sed nunc, quod agimus; A mene tu?\n"
     ]
    }
   ],
   "source": [
    "with open('sample3.txt','r') as fb:\n",
    "    with open('sample3.txt.copy','r') as kt:\n",
    "        \n",
    "        \n",
    "        with open('sample3.txt.copy','w') as gb:\n",
    "            \n",
    "           # for line in fb:\n",
    "                #gb.write(line)\n",
    "        #print(kt.read())\n",
    "            set_size = 10\n",
    "            gimpy = fb.read(set_size)\n",
    "            while len(gimpy)> 0:\n",
    "                gb.write(gimpy)\n",
    "                gimpy = fb.read(set_size)\n",
    "                \n",
    "        print(kt.read())            \n"
   ]
  },
  {
   "cell_type": "code",
   "execution_count": 93,
   "id": "829a741c",
   "metadata": {},
   "outputs": [],
   "source": [
    "  \n",
    "        #print(line_copy)\n",
    "        #count = 0\n",
    "        #for line in range(len(line_copy)):\n",
    "         #   if line[i].endswith('at'):\n",
    "         #       count = count + 1\n",
    "               \n",
    "          #  i = i + 1\n",
    "        #print(line_copy[1].endswith('\\n'))\n",
    "    "
   ]
  },
  {
   "cell_type": "code",
   "execution_count": 35,
   "id": "bcf4e11e",
   "metadata": {},
   "outputs": [
    {
     "name": "stdout",
     "output_type": "stream",
     "text": [
      "4 [1, 0, 0, 1, 0, 0, 1, 0, 0, 1, 0, 0, 0, 0, 0, 0, 0, 0, 0, 0, 0]\n"
     ]
    }
   ],
   "source": [
    " with open('sample3.txt.copy','r') as ft:\n",
    "        \"\"\"this helps to search for the a text in the text file and return\n",
    "        the occurence of the text in the file-Second option\"\"\"\n",
    "        list_3 = []\n",
    "     \n",
    "        read_lines_obj = ft.readlines()\n",
    "        \n",
    "        for i in range(len(read_lines_obj)):\n",
    "            count = read_lines_obj[i].count('Quod')\n",
    "            list_3.append(count)\n",
    "            \n",
    "             \n",
    "    \n",
    "        print(sum(list_3),list_3)        "
   ]
  },
  {
   "cell_type": "code",
   "execution_count": 189,
   "id": "90de13de",
   "metadata": {},
   "outputs": [],
   "source": [
    "def  hash_display():\n",
    "    \"\"\"this helps to print the words in the text file in a formated string\"\"\"\n",
    "    ft = open('sample3.txt.copy','r')\n",
    "    Fk = ft.read()\n",
    "    for i in Fk:\n",
    "        print(i,end = '#')\n",
    "    "
   ]
  },
  {
   "cell_type": "code",
   "execution_count": 190,
   "id": "01b1966b",
   "metadata": {},
   "outputs": [
    {
     "name": "stdout",
     "output_type": "stream",
     "text": [
      "Q#u#o#d# #e#q#u#i#d#e#m# #n#o#n# #r#e#p#r#e#h#e#n#d#o#;#\n",
      "#L#o#r#e#m# #i#p#s#u#m# #d#o#l#o#r# #s#i#t# #a#m#e#t#,# #c#o#n#s#e#c#t#e#t#u#r# #a#d#i#p#i#s#c#i#n#g# #e#l#i#t#.# #Q#u#i#b#u#s# #n#a#t#u#r#a# #i#u#r#e# #r#e#s#p#o#n#d#e#r#i#t# #n#o#n# #e#s#s#e# #v#e#r#u#m# #a#l#i#u#n#d#e# #f#i#n#e#m# #b#e#a#t#e# #v#i#v#e#n#d#i#,# #a# #s#e# #p#r#i#n#c#i#p#i#a# #r#e#i# #g#e#r#e#n#d#a#e# #p#e#t#i#;# #Q#u#a#e# #e#n#i#m# #a#d#h#u#c# #p#r#o#t#u#l#i#s#t#i#,# #p#o#p#u#l#a#r#i#a# #s#u#n#t#,# #e#g#o# #a#u#t#e#m# #a# #t#e# #e#l#e#g#a#n#t#i#o#r#a# #d#e#s#i#d#e#r#o#.# #D#u#o# #R#e#g#e#s#:# #c#o#n#s#t#r#u#c#t#i#o# #i#n#t#e#r#r#e#t#e#.# #T#u#m# #L#u#c#i#u#s#:# #M#i#h#i# #v#e#r#o# #i#s#t#a# #v#a#l#d#e# #p#r#o#b#a#t#a# #s#u#n#t#,# #q#u#o#d# #i#t#e#m# #f#r#a#t#r#i# #p#u#t#o#.# #B#e#s#t#i#a#r#u#m# #v#e#r#o# #n#u#l#l#u#m# #i#u#d#i#c#i#u#m# #p#u#t#o#.# #N#i#h#i#l# #e#n#i#m# #i#a#m# #h#a#b#e#s#,# #q#u#o#d# #a#d# #c#o#r#p#u#s# #r#e#f#e#r#a#s#;# #D#e#i#n#d#e# #p#r#i#m#a# #i#l#l#a#,# #q#u#a#e# #i#n# #c#o#n#g#r#e#s#s#u# #s#o#l#e#m#u#s#:# #Q#u#i#d# #t#u#,# #i#n#q#u#i#t#,# #h#u#c#?# #E#t# #h#o#m#i#n#i#,# #q#u#i# #c#e#t#e#r#i#s# #a#n#i#m#a#n#t#i#b#u#s# #p#l#u#r#i#m#u#m# #p#r#a#e#s#t#a#t#,# #p#r#a#e#c#i#p#u#e# #a# #n#a#t#u#r#a# #n#i#h#i#l# #d#a#t#u#m# #e#s#s#e# #d#i#c#e#m#u#s#?#\n",
      "#\n",
      "#I#a#m# #i#d# #i#p#s#u#m# #a#b#s#u#r#d#u#m#,# #m#a#x#i#m#u#m# #m#a#l#u#m# #n#e#g#l#e#g#i#.# #Q#u#o#d# #e#a# #n#o#n# #o#c#c#u#r#r#e#n#t#i#a# #f#i#n#g#u#n#t#,# #v#i#n#c#u#n#t# #A#r#i#s#t#o#n#e#m#;# #A#t#q#u#i# #p#e#r#s#p#i#c#u#u#m# #e#s#t# #h#o#m#i#n#e#m# #e# #c#o#r#p#o#r#e# #a#n#i#m#o#q#u#e# #c#o#n#s#t#a#r#e#,# #c#u#m# #p#r#i#m#a#e# #s#i#n#t# #a#n#i#m#i# #p#a#r#t#e#s#,# #s#e#c#u#n#d#a#e# #c#o#r#p#o#r#i#s#.# #F#i#e#r#i#,# #i#n#q#u#a#m#,# #T#r#i#a#r#i#,# #n#u#l#l#o# #p#a#c#t#o# #p#o#t#e#s#t#,# #u#t# #n#o#n# #d#i#c#a#s#,# #q#u#i#d# #n#o#n# #p#r#o#b#e#s# #e#i#u#s#,# #a# #q#u#o# #d#i#s#s#e#n#t#i#a#s#.# #E#q#u#i#d#e#m# #e# #C#n#.# #A#n# #d#u#b#i#u#m# #e#s#t#,# #q#u#i#n# #v#i#r#t#u#s# #i#t#a# #m#a#x#i#m#a#m# #p#a#r#t#e#m# #o#p#t#i#n#e#a#t# #i#n# #r#e#b#u#s# #h#u#m#a#n#i#s#,# #u#t# #r#e#l#i#q#u#a#s# #o#b#r#u#a#t#?#\n",
      "#\n",
      "#Q#u#i#s# #i#s#t#u#m# #d#o#l#o#r#e#m# #t#i#m#e#t#?#\n",
      "#S#u#m#m#u#s# #d#o#l#o#r# #p#l#u#r#e#s# #d#i#e#s# #m#a#n#e#r#e# #n#o#n# #p#o#t#e#s#t#?# #D#i#c#e#t# #p#r#o# #m#e# #i#p#s#a# #v#i#r#t#u#s# #n#e#c# #d#u#b#i#t#a#b#i#t# #i#s#t#i# #v#e#s#t#r#o# #b#e#a#t#o# #M#.# #T#u#b#u#l#u#m# #f#u#i#s#s#e#,# #q#u#a# #i#l#l#u#m#,# #c#u#i#u#s# #i#s# #c#o#n#d#e#m#n#a#t#u#s# #e#s#t# #r#o#g#a#t#i#o#n#e#,# #P#.# #Q#u#o#d# #s#i# #i#t#a# #s#i#t#,# #c#u#r# #o#p#e#r#a# #p#h#i#l#o#s#o#p#h#i#a#e# #s#i#t# #d#a#n#d#a# #n#e#s#c#i#o#.#\n",
      "#\n",
      "#E#x# #e#o#r#u#m# #e#n#i#m# #s#c#r#i#p#t#i#s# #e#t# #i#n#s#t#i#t#u#t#i#s# #c#u#m# #o#m#n#i#s# #d#o#c#t#r#i#n#a# #l#i#b#e#r#a#l#i#s#,# #o#m#n#i#s# #h#i#s#t#o#r#i#a#.#\n",
      "#Q#u#o#d# #s#i# #i#t#a# #e#s#t#,# #s#e#q#u#i#t#u#r# #i#d# #i#p#s#u#m#,# #q#u#o#d# #t#e# #v#e#l#l#e# #v#i#d#e#o#,# #o#m#n#e#s# #s#e#m#p#e#r# #b#e#a#t#o#s# #e#s#s#e# #s#a#p#i#e#n#t#e#s#.# #C#u#m# #e#n#i#m# #f#e#r#t#u#r# #q#u#a#s#i# #t#o#r#r#e#n#s# #o#r#a#t#i#o#,# #q#u#a#m#v#i#s# #m#u#l#t#a# #c#u#i#u#s#q#u#e# #m#o#d#i# #r#a#p#i#a#t#,# #n#i#h#i#l# #t#a#m#e#n# #t#e#n#e#a#s#,# #n#i#h#i#l# #a#p#p#r#e#h#e#n#d#a#s#,# #n#u#s#q#u#a#m# #o#r#a#t#i#o#n#e#m# #r#a#p#i#d#a#m# #c#o#e#r#c#e#a#s#.# #I#t#a# #r#e#d#a#r#g#u#i#t#u#r# #i#p#s#e# #a# #s#e#s#e#,# #c#o#n#v#i#n#c#u#n#t#u#r#q#u#e# #s#c#r#i#p#t#a# #e#i#u#s# #p#r#o#b#i#t#a#t#e# #i#p#s#i#u#s# #a#c# #m#o#r#i#b#u#s#.# #A#t# #q#u#a#n#t#a# #c#o#n#a#n#t#u#r#!# #M#u#n#d#u#m# #h#u#n#c# #o#m#n#e#m# #o#p#p#i#d#u#m# #e#s#s#e# #n#o#s#t#r#u#m#!# #I#n#c#e#n#d#i# #i#g#i#t#u#r# #e#o#s#,# #q#u#i# #a#u#d#i#u#n#t#,# #v#i#d#e#s#.# #V#i#d#e#,# #n#e# #m#a#g#i#s#,# #i#n#q#u#a#m#,# #t#u#u#m# #f#u#e#r#i#t#,# #c#u#m# #r#e# #i#d#e#m# #t#i#b#i#,# #q#u#o#d# #m#i#h#i#,# #v#i#d#e#r#e#t#u#r#,# #n#o#n# #n#o#v#a# #t#e# #r#e#b#u#s# #n#o#m#i#n#a# #i#n#p#o#n#e#r#e#.# #Q#u#i#-#v#e#r#e# #f#a#l#s#o#n#e#,# #q#u#a#e#r#e#r#e# #m#i#t#t#i#m#u#s#-#d#i#c#i#t#u#r# #o#c#u#l#i#s# #s#e# #p#r#i#v#a#s#s#e#;# #S#i# #i#s#t#a# #m#a#l#a# #s#u#n#t#,# #i#n# #q#u#a#e# #p#o#t#e#s#t# #i#n#c#i#d#e#r#e# #s#a#p#i#e#n#s#,# #s#a#p#i#e#n#t#e#m# #e#s#s#e# #n#o#n# #e#s#s#e# #a#d# #b#e#a#t#e# #v#i#v#e#n#d#u#m# #s#a#t#i#s#.# #A#t# #v#e#r#o# #s#i# #a#d# #v#i#t#e#m# #s#e#n#s#u#s# #a#c#c#e#s#s#e#r#i#t#,# #u#t# #a#p#p#e#t#i#t#u#m# #q#u#e#n#d#a#m# #h#a#b#e#a#t# #e#t# #p#e#r# #s#e# #i#p#s#a# #m#o#v#e#a#t#u#r#,# #q#u#i#d# #f#a#c#t#u#r#a#m# #p#u#t#a#s#?#\n",
      "#\n",
      "#Q#u#e#m# #s#i# #t#e#n#u#e#r#i#s#,# #n#o#n# #m#o#d#o# #m#e#u#m# #C#i#c#e#r#o#n#e#m#,# #s#e#d# #e#t#i#a#m# #m#e# #i#p#s#u#m# #a#b#d#u#c#a#s# #l#i#c#e#b#i#t#.#\n",
      "#S#t#u#l#t#i# #a#u#t#e#m# #m#a#l#o#r#u#m# #m#e#m#o#r#i#a# #t#o#r#q#u#e#n#t#u#r#,# #s#a#p#i#e#n#t#e#s# #b#o#n#a# #p#r#a#e#t#e#r#i#t#a# #g#r#a#t#a# #r#e#c#o#r#d#a#t#i#o#n#e# #r#e#n#o#v#a#t#a# #d#e#l#e#c#t#a#n#t#.#\n",
      "#E#s#s#e# #e#n#i#m# #q#u#a#m# #v#e#l#l#e#t# #i#n#i#q#u#u#s# #i#u#s#t#u#s# #p#o#t#e#r#a#t# #i#n#p#u#n#e#.#\n",
      "#Q#u#a#e# #a#u#t#e#m# #n#a#t#u#r#a# #s#u#a#e# #p#r#i#m#a#e# #i#n#s#t#i#t#u#t#i#o#n#i#s# #o#b#l#i#t#a# #e#s#t#?#\n",
      "#V#e#r#u#m# #t#a#m#e#n# #c#u#m# #d#e# #r#e#b#u#s# #g#r#a#n#d#i#o#r#i#b#u#s# #d#i#c#a#s#,# #i#p#s#a#e# #r#e#s# #v#e#r#b#a# #r#a#p#i#u#n#t#;#\n",
      "#H#o#c# #e#s#t# #n#o#n# #m#o#d#o# #c#o#r# #n#o#n# #h#a#b#e#r#e#,# #s#e#d# #n#e# #p#a#l#a#t#u#m# #q#u#i#d#e#m#.#\n",
      "#V#o#l#u#p#t#a#t#e#m# #c#u#m# #s#u#m#m#u#m# #b#o#n#u#m# #d#i#c#e#r#e#t#,# #p#r#i#m#u#m# #i#n# #e#o# #i#p#s#o# #p#a#r#u#m# #v#i#d#i#t#,# #d#e#i#n#d#e# #h#o#c# #q#u#o#q#u#e# #a#l#i#e#n#u#m#;# #S#e#d# #t#u# #i#s#t#u#c# #d#i#x#t#i# #b#e#n#e# #L#a#t#i#n#e#,# #p#a#r#u#m# #p#l#a#n#e#.# #N#a#m# #h#a#e#c# #i#p#s#a# #m#i#h#i# #e#r#u#n#t# #i#n# #p#r#o#m#p#t#u#,# #q#u#a#e# #m#o#d#o# #a#u#d#i#v#i#,# #n#e#c# #a#n#t#e# #a#g#g#r#e#d#i#a#r#,# #q#u#a#m# #t#e# #a#b# #i#s#t#i#s#,# #q#u#o#s# #d#i#c#i#s#,# #i#n#s#t#r#u#c#t#u#m# #v#i#d#e#r#o#.# #F#a#t#e#b#u#n#t#u#r# #S#t#o#i#c#i# #h#a#e#c# #o#m#n#i#a# #d#i#c#t#a# #e#s#s#e# #p#r#a#e#c#l#a#r#e#,# #n#e#q#u#e# #e#a#m# #c#a#u#s#a#m# #Z#e#n#o#n#i# #d#e#s#c#i#s#c#e#n#d#i# #f#u#i#s#s#e#.# #N#o#n# #a#u#t#e#m# #h#o#c#:# #i#g#i#t#u#r# #n#e# #i#l#l#u#d# #q#u#i#d#e#m#.# #R#a#t#i#o# #q#u#i#d#e#m# #v#e#s#t#r#a# #s#i#c# #c#o#g#i#t#.# #C#u#m# #a#u#d#i#s#s#e#m# #A#n#t#i#o#c#h#u#m#,# #B#r#u#t#e#,# #u#t# #s#o#l#e#b#a#m#,# #c#u#m# #M#.# #A#n# #q#u#o#d# #i#t#a# #c#a#l#l#i#d#a# #e#s#t#,# #u#t# #o#p#t#i#m#e# #p#o#s#s#i#t# #a#r#c#h#i#t#e#c#t#a#r#i# #v#o#l#u#p#t#a#t#e#s#?#\n",
      "#\n",
      "#I#d#e#m#n#e#,# #q#u#o#d# #i#u#c#u#n#d#e#?#\n",
      "#H#a#e#c# #m#i#h#i# #v#i#d#e#t#u#r# #d#e#l#i#c#a#t#i#o#r#,# #u#t# #i#t#a# #d#i#c#a#m#,# #m#o#l#l#i#o#r#q#u#e# #r#a#t#i#o#,# #q#u#a#m# #v#i#r#t#u#t#i#s# #v#i#s# #g#r#a#v#i#t#a#s#q#u#e# #p#o#s#t#u#l#a#t#.# #S#e#d# #q#u#o#n#i#a#m# #e#t# #a#d#v#e#s#p#e#r#a#s#c#i#t# #e#t# #m#i#h#i# #a#d# #v#i#l#l#a#m# #r#e#v#e#r#t#e#n#d#u#m# #e#s#t#,# #n#u#n#c# #q#u#i#d#e#m# #h#a#c#t#e#n#u#s#;# #C#u#i#u#s# #a#d# #n#a#t#u#r#a#m# #a#p#t#a# #r#a#t#i#o# #v#e#r#a# #i#l#l#a# #e#t# #s#u#m#m#a# #l#e#x# #a# #p#h#i#l#o#s#o#p#h#i#s# #d#i#c#i#t#u#r#.# #N#e#q#u#e# #s#o#l#u#m# #e#a# #c#o#m#m#u#n#i#a#,# #v#e#r#u#m# #e#t#i#a#m# #p#a#r#i#a# #e#s#s#e# #d#i#x#e#r#u#n#t#.# #S#e#d# #n#u#n#c#,# #q#u#o#d# #a#g#i#m#u#s#;# #A# #m#e#n#e# #t#u#?#"
     ]
    }
   ],
   "source": [
    "displaY_harsh = hash_display()"
   ]
  },
  {
   "cell_type": "code",
   "execution_count": 212,
   "id": "32af96be",
   "metadata": {},
   "outputs": [],
   "source": [
    "def countAlpha():\n",
    "    store_list = []\n",
    "    ft = open('sample3.txt.copy','r')\n",
    "    Fk = ft.read()\n",
    "    fk_list = Fk.split()\n",
    "    count = 0\n",
    "    for i in fk_list:\n",
    "        for j in i:\n",
    "            if j ==j.upper():\n",
    "                count = count + 1\n",
    "                #store_list.append(j)\n",
    "    print('the count is :', count)\n"
   ]
  },
  {
   "cell_type": "code",
   "execution_count": 213,
   "id": "9b29fd08",
   "metadata": {},
   "outputs": [
    {
     "name": "stdout",
     "output_type": "stream",
     "text": [
      "the count is : 203\n"
     ]
    }
   ],
   "source": [
    "countAlpha()"
   ]
  },
  {
   "cell_type": "code",
   "execution_count": 149,
   "id": "55ce2cd4",
   "metadata": {},
   "outputs": [],
   "source": [
    "def search_text(search):\n",
    "    with open('sample3.txt.copy','r') as ft:\n",
    "        \"\"\"this helps to search for the a word in the text file and return the total num of\n",
    "        the occurence of the text in the file--modified\"\"\"\n",
    "         \n",
    "     \n",
    "        read_lines_obj = ft.readlines()\n",
    "        #count  = 0\n",
    "        list_3 = []\n",
    "        count = 0\n",
    "        for i in range(len(read_lines_obj)):\n",
    "            \n",
    "            if search in read_lines_obj[i]:\n",
    "                count = count + 1\n",
    "\n",
    "                #count = count + 1\n",
    "                \n",
    "           \n",
    "            \n",
    "             \n",
    "    \n",
    "        return count   "
   ]
  },
  {
   "cell_type": "code",
   "execution_count": null,
   "id": "f7023823",
   "metadata": {},
   "outputs": [],
   "source": []
  },
  {
   "cell_type": "code",
   "execution_count": 152,
   "id": "372e53df",
   "metadata": {},
   "outputs": [],
   "source": [
    "def searchnotintext(search):\n",
    "    with open('sample3.txt.copy','r') as ft:\n",
    "        \"\"\"this helps to search for the a text in the text file and return\n",
    "        the number of times a line doesnt start with that strings\"\"\"\n",
    "        line_4 = []\n",
    "        \n",
    "     \n",
    "        read_lines_obj = ft.readlines()\n",
    "        count = 0\n",
    "        for i in range(len(read_lines_obj)):\n",
    "            if not  read_lines_obj[i][0:].startswith(search):\n",
    "             #   line_4.append(1)\n",
    "                count = count + 1\n",
    "            #elif read_lines_obj[i][0:].startswith('Quod') :\n",
    "             #   line_4.append(0)    \n",
    "                    \n",
    "             \n",
    "        #print(sum(line_4),line_4)\n",
    "        print(count)\n",
    "                "
   ]
  },
  {
   "cell_type": "code",
   "execution_count": 156,
   "id": "41902730",
   "metadata": {},
   "outputs": [
    {
     "name": "stdout",
     "output_type": "stream",
     "text": [
      "Quod equidem non reprehendo;\n",
      "Lorem ipsum dolor sit amet, consectetur adipiscing elit. Quibus natura iure responderit non esse verum aliunde finem beate vivendi, a se principia rei gerendae peti; Quae enim adhuc protulisti, popularia sunt, ego autem a te elegantiora desidero. Duo Reges: constructio interrete. Tum Lucius: Mihi vero ista valde probata sunt, quod item fratri puto. Bestiarum vero nullum iudicium puto. Nihil enim iam habes, quod ad corpus referas; Deinde prima illa, quae in congressu solemus: Quid tu, inquit, huc? Et homini, qui ceteris animantibus plurimum praestat, praecipue a natura nihil datum esse dicemus?\n",
      "\n",
      "Iam id ipsum absurdum, maximum malum neglegi. Quod ea non occurrentia fingunt, vincunt Aristonem; Atqui perspicuum est hominem e corpore animoque constare, cum primae sint animi partes, secundae corporis. Fieri, inquam, Triari, nullo pacto potest, ut non dicas, quid non probes eius, a quo dissentias. Equidem e Cn. An dubium est, quin virtus ita maximam partem optineat in rebus humanis, ut reliquas obruat?\n",
      "\n",
      "Quis istum dolorem timet?\n",
      "Summus dolor plures dies manere non potest? Dicet pro me ipsa virtus nec dubitabit isti vestro beato M. Tubulum fuisse, qua illum, cuius is condemnatus est rogatione, P. Quod si ita sit, cur opera philosophiae sit danda nescio.\n",
      "\n",
      "Ex eorum enim scriptis et institutis cum omnis doctrina liberalis, omnis historia.\n",
      "Quod si ita est, sequitur id ipsum, quod te velle video, omnes semper beatos esse sapientes. Cum enim fertur quasi torrens oratio, quamvis multa cuiusque modi rapiat, nihil tamen teneas, nihil apprehendas, nusquam orationem rapidam coerceas. Ita redarguitur ipse a sese, convincunturque scripta eius probitate ipsius ac moribus. At quanta conantur! Mundum hunc omnem oppidum esse nostrum! Incendi igitur eos, qui audiunt, vides. Vide, ne magis, inquam, tuum fuerit, cum re idem tibi, quod mihi, videretur, non nova te rebus nomina inponere. Qui-vere falsone, quaerere mittimus-dicitur oculis se privasse; Si ista mala sunt, in quae potest incidere sapiens, sapientem esse non esse ad beate vivendum satis. At vero si ad vitem sensus accesserit, ut appetitum quendam habeat et per se ipsa moveatur, quid facturam putas?\n",
      "\n",
      "Quem si tenueris, non modo meum Ciceronem, sed etiam me ipsum abducas licebit.\n",
      "Stulti autem malorum memoria torquentur, sapientes bona praeterita grata recordatione renovata delectant.\n",
      "Esse enim quam vellet iniquus iustus poterat inpune.\n",
      "Quae autem natura suae primae institutionis oblita est?\n",
      "Verum tamen cum de rebus grandioribus dicas, ipsae res verba rapiunt;\n",
      "Hoc est non modo cor non habere, sed ne palatum quidem.\n",
      "Voluptatem cum summum bonum diceret, primum in eo ipso parum vidit, deinde hoc quoque alienum; Sed tu istuc dixti bene Latine, parum plane. Nam haec ipsa mihi erunt in promptu, quae modo audivi, nec ante aggrediar, quam te ab istis, quos dicis, instructum videro. Fatebuntur Stoici haec omnia dicta esse praeclare, neque eam causam Zenoni desciscendi fuisse. Non autem hoc: igitur ne illud quidem. Ratio quidem vestra sic cogit. Cum audissem Antiochum, Brute, ut solebam, cum M. An quod ita callida est, ut optime possit architectari voluptates?\n",
      "\n",
      "Idemne, quod iucunde?\n",
      "Haec mihi videtur delicatior, ut ita dicam, molliorque ratio, quam virtutis vis gravitasque postulat. Sed quoniam et advesperascit et mihi ad villam revertendum est, nunc quidem hactenus; Cuius ad naturam apta ratio vera illa et summa lex a philosophis dicitur. Neque solum ea communia, verum etiam paria esse dixerunt. Sed nunc, quod agimus; A mene tu?\n"
     ]
    }
   ],
   "source": [
    " with open('sample3.txt.copy','r') as ft:\n",
    "        \"\"\"this helps to search for the a text in the text file and return\n",
    "        the number of times a line doesnt start with that strings\"\"\"\n",
    "        line_4 = []\n",
    "        \n",
    "     \n",
    "        read_lines_obj = ft.read()\n",
    "        print(read_lines_obj)"
   ]
  },
  {
   "cell_type": "code",
   "execution_count": 157,
   "id": "540b6fa6",
   "metadata": {},
   "outputs": [
    {
     "name": "stdout",
     "output_type": "stream",
     "text": [
      "19\n"
     ]
    }
   ],
   "source": [
    "searchnotintext('Quod')"
   ]
  },
  {
   "cell_type": "code",
   "execution_count": 40,
   "id": "d99d77cb",
   "metadata": {},
   "outputs": [],
   "source": [
    "def printless4words():\n",
    "    with open('sample3.txt.copy','r') as ft:\n",
    "        \"\"\"this helps to search for the a text in the text file and return\n",
    "        the number of times a line doesnt start with that strings\"\"\"\n",
    "        line_4 = []\n",
    "        read_4_me = ft.read()\n",
    "        read_js = read_4_me.split()\n",
    "        for i in read_js:\n",
    "            if len(i) < 4:\n",
    "                line_4.append(i)\n",
    "        print(line_4)\n",
    "     \n",
    "        \n",
    "        "
   ]
  },
  {
   "cell_type": "code",
   "execution_count": 136,
   "id": "f8794b6e",
   "metadata": {},
   "outputs": [
    {
     "name": "stdout",
     "output_type": "stream",
     "text": [
      "['non', 'sit', 'non', 'a', 'se', 'rei', 'ego', 'a', 'te', 'Duo', 'Tum', 'iam', 'ad', 'in', 'tu,', 'Et', 'qui', 'a', 'Iam', 'id', 'ea', 'non', 'est', 'e', 'cum', 'ut', 'non', 'non', 'a', 'quo', 'e', 'Cn.', 'An', 'ita', 'in', 'ut', 'non', 'pro', 'me', 'nec', 'M.', 'qua', 'is', 'est', 'P.', 'si', 'ita', 'cur', 'sit', 'Ex', 'et', 'cum', 'si', 'ita', 'id', 'te', 'Cum', 'Ita', 'a', 'ac', 'At', 'qui', 'ne', 'cum', 're', 'non', 'te', 'se', 'Si', 'in', 'non', 'ad', 'At', 'si', 'ad', 'ut', 'et', 'per', 'se', 'si', 'non', 'sed', 'me', 'cum', 'de', 'res', 'Hoc', 'est', 'non', 'cor', 'non', 'sed', 'ne', 'cum', 'in', 'eo', 'hoc', 'Sed', 'tu', 'Nam', 'in', 'nec', 'te', 'ab', 'eam', 'Non', 'ne', 'sic', 'Cum', 'ut', 'cum', 'M.', 'An', 'ita', 'ut', 'ut', 'ita', 'vis', 'Sed', 'et', 'et', 'ad', 'ad', 'et', 'lex', 'a', 'ea', 'Sed', 'A', 'tu?']\n"
     ]
    }
   ],
   "source": [
    "printless4words()"
   ]
  },
  {
   "cell_type": "code",
   "execution_count": null,
   "id": "ebd9ec69",
   "metadata": {},
   "outputs": [],
   "source": [
    "#RECAP\n",
    "#what i need to do today?: updated:this has been done\n",
    "# i would like to write few lines of strings using writelines and write methods for gb "
   ]
  },
  {
   "cell_type": "code",
   "execution_count": null,
   "id": "69964520",
   "metadata": {},
   "outputs": [],
   "source": [
    "list_2 = 'Iam id ipsum absurdum, maximum malum neglegi. Quod ea non occurrentia fingunt, vincunt Aristonem; Atqui perspicuum est hominem e corpore animoque constare, cum primae sint animi partes, secundae corporis. Fieri, inquam, Triari, nullo pacto potest, ut non dicas, quid non probes eius, a quo dissentias. Equidem e Cn. An dubium est, quin virtus ita maximam partem optineat in rebus humanis, ut reliquas obruat?'\n"
   ]
  },
  {
   "cell_type": "code",
   "execution_count": null,
   "id": "cd0386b5",
   "metadata": {},
   "outputs": [],
   "source": [
    "with open('sample3.txt.copy','r') as ft:\n",
    "    with open('sample3.txt.copy','w') as gb:\n",
    "        gb.write('the God i served is a strong tower, No one comes to God except through him' \n",
    "                 'do you kno him,\\n and God said to his disciple, please make sure you are the'\n",
    "                 ' the emplary of life, /n and never you prophesy fake prophecies,cos God would'\n",
    "                 'and his grace will be upon you always')\n",
    "        #gb.write(line_1)\n",
    "        #gb.write(Line_2)\n",
    "        \n",
    "    ft_conc = ft.readlines()\n",
    "    print(ft_conc[0])"
   ]
  },
  {
   "cell_type": "code",
   "execution_count": null,
   "id": "7cc8cfb6",
   "metadata": {},
   "outputs": [],
   "source": [
    "print('where are you \\n give me more food')"
   ]
  },
  {
   "cell_type": "code",
   "execution_count": null,
   "id": "b6d3405e",
   "metadata": {},
   "outputs": [],
   "source": [
    "list_4 = [1,2,3,4,5,6]"
   ]
  },
  {
   "cell_type": "code",
   "execution_count": null,
   "id": "0299b90c",
   "metadata": {},
   "outputs": [],
   "source": [
    "list_3 = []\n",
    "list_2 = []\n",
    "for i in range(len(list_4)):\n",
    "    if i%2==0:\n",
    "        list_3.append(list_4[i])\n",
    "    elif i%2==1:\n",
    "        list_2.append(list_4[i])"
   ]
  },
  {
   "cell_type": "code",
   "execution_count": null,
   "id": "0000f2d9",
   "metadata": {},
   "outputs": [],
   "source": [
    "[i+j for i,j in zip(list_2,list_3)]#this is a code that helps to sum the number x and x+1 \n",
    "#for any two numbers in the list"
   ]
  },
  {
   "cell_type": "code",
   "execution_count": 33,
   "id": "27803a57",
   "metadata": {},
   "outputs": [
    {
     "name": "stdout",
     "output_type": "stream",
     "text": [
      "2\n",
      "input your name by putting space in in between: Rotimi_kolawole\n",
      "input your name by putting space in in between: Gbenga_ajayi\n"
     ]
    }
   ],
   "source": [
    "list_storage = []\n",
    "for _ in range(int(input())):\n",
    "    new_name = input('input your name by putting space in in between: ')\n",
    "    list_storage.append(new_name)"
   ]
  },
  {
   "cell_type": "code",
   "execution_count": 34,
   "id": "4675a98a",
   "metadata": {},
   "outputs": [
    {
     "data": {
      "text/plain": [
       "['Rotimi_kolawole', 'Gbenga_ajayi']"
      ]
     },
     "execution_count": 34,
     "metadata": {},
     "output_type": "execute_result"
    }
   ],
   "source": [
    "list_storage"
   ]
  },
  {
   "cell_type": "code",
   "execution_count": 87,
   "id": "37480301",
   "metadata": {},
   "outputs": [],
   "source": [
    "def countAlpha(*args):\n",
    "    \"\"\"This is a function that returns the no of times two words occur , \n",
    "    in this case we non and esse, using the args argument\"\"\"\n",
    "   \n",
    "    ft = open('sample3.txt.copy','r')\n",
    "    Fk = ft.read()\n",
    "    fk_list = Fk.split()\n",
    "    count = 0\n",
    "    second_count = 0\n",
    "    \n",
    "    \n",
    " \n",
    "    for i in range(len(fk_list)):\n",
    "        if fk_list[i]==args[0]:\n",
    "                count+=1\n",
    "        elif fk_list[i]==args[1]:\n",
    "            second_count +=1\n",
    "                #store_list.append(j)\n",
    "    print(f'the count for the {args[0]} is :{count} \\nthe count for {args[1]} is : {second_count}')\n",
    "    ft.close()\n"
   ]
  },
  {
   "cell_type": "code",
   "execution_count": 86,
   "id": "bd11a35d",
   "metadata": {},
   "outputs": [
    {
     "name": "stdout",
     "output_type": "stream",
     "text": [
      "the count for the quod is :7 \n",
      "the count for a is : 6\n"
     ]
    }
   ],
   "source": [
    "countAlpha('quod','a')"
   ]
  },
  {
   "cell_type": "code",
   "execution_count": 76,
   "id": "0d5b1875",
   "metadata": {},
   "outputs": [],
   "source": [
    "def func_hold(*args):\n",
    "    for i in range(len(args)):\n",
    "        print(args[0],end = '\\n')"
   ]
  },
  {
   "cell_type": "code",
   "execution_count": null,
   "id": "bc0ea295",
   "metadata": {},
   "outputs": [],
   "source": []
  },
  {
   "cell_type": "code",
   "execution_count": 77,
   "id": "2a753b46",
   "metadata": {},
   "outputs": [
    {
     "name": "stdout",
     "output_type": "stream",
     "text": [
      "peter\n",
      "peter\n",
      "peter\n"
     ]
    }
   ],
   "source": [
    "func_hold('peter','segun','honoray')"
   ]
  },
  {
   "cell_type": "code",
   "execution_count": null,
   "id": "8501f492",
   "metadata": {},
   "outputs": [],
   "source": [
    "from collections import Counter"
   ]
  },
  {
   "cell_type": "code",
   "execution_count": 90,
   "id": "c3ac9d94",
   "metadata": {},
   "outputs": [
    {
     "name": "stdout",
     "output_type": "stream",
     "text": [
      "Counter({'non': 11, 'esse': 8, 'quod': 7, 'a': 6, 'cum': 6, 'ut': 6, 'enim': 5, 'ad': 5, 'in': 5, 'ita': 5, 'et': 5, 'Quod': 4, 'autem': 4, 'te': 4, 'est,': 4, 'si': 4, 'ipsum': 3, 'natura': 3, 'se': 3, 'sunt,': 3, 'vero': 3, 'quae': 3, 'nihil': 3, 'est': 3, 'rebus': 3, 'ipsa': 3, 'ne': 3, 'modo': 3, 'quam': 3, 'Sed': 3, 'mihi': 3, 'dolor': 2, 'sit': 2, 'verum': 2, 'beate': 2, 'Quae': 2, 'ista': 2, 'puto.': 2, 'qui': 2, 'id': 2, 'ea': 2, 'e': 2, 'primae': 2, 'inquam,': 2, 'dicas,': 2, 'quid': 2, 'An': 2, 'virtus': 2, 'me': 2, 'nec': 2, 'M.': 2, 'omnis': 2, 'Cum': 2, 'tamen': 2, 'At': 2, 'igitur': 2, 'sed': 2, 'etiam': 2, 'quidem.': 2, 'parum': 2, 'haec': 2, 'quidem': 2, 'equidem': 1, 'reprehendo;': 1, 'Lorem': 1, 'amet,': 1, 'consectetur': 1, 'adipiscing': 1, 'elit.': 1, 'Quibus': 1, 'iure': 1, 'responderit': 1, 'aliunde': 1, 'finem': 1, 'vivendi,': 1, 'principia': 1, 'rei': 1, 'gerendae': 1, 'peti;': 1, 'adhuc': 1, 'protulisti,': 1, 'popularia': 1, 'ego': 1, 'elegantiora': 1, 'desidero.': 1, 'Duo': 1, 'Reges:': 1, 'constructio': 1, 'interrete.': 1, 'Tum': 1, 'Lucius:': 1, 'Mihi': 1, 'valde': 1, 'probata': 1, 'item': 1, 'fratri': 1, 'Bestiarum': 1, 'nullum': 1, 'iudicium': 1, 'Nihil': 1, 'iam': 1, 'habes,': 1, 'corpus': 1, 'referas;': 1, 'Deinde': 1, 'prima': 1, 'illa,': 1, 'congressu': 1, 'solemus:': 1, 'Quid': 1, 'tu,': 1, 'inquit,': 1, 'huc?': 1, 'Et': 1, 'homini,': 1, 'ceteris': 1, 'animantibus': 1, 'plurimum': 1, 'praestat,': 1, 'praecipue': 1, 'datum': 1, 'dicemus?': 1, 'Iam': 1, 'absurdum,': 1, 'maximum': 1, 'malum': 1, 'neglegi.': 1, 'occurrentia': 1, 'fingunt,': 1, 'vincunt': 1, 'Aristonem;': 1, 'Atqui': 1, 'perspicuum': 1, 'hominem': 1, 'corpore': 1, 'animoque': 1, 'constare,': 1, 'sint': 1, 'animi': 1, 'partes,': 1, 'secundae': 1, 'corporis.': 1, 'Fieri,': 1, 'Triari,': 1, 'nullo': 1, 'pacto': 1, 'potest,': 1, 'probes': 1, 'eius,': 1, 'quo': 1, 'dissentias.': 1, 'Equidem': 1, 'Cn.': 1, 'dubium': 1, 'quin': 1, 'maximam': 1, 'partem': 1, 'optineat': 1, 'humanis,': 1, 'reliquas': 1, 'obruat?': 1, 'Quis': 1, 'istum': 1, 'dolorem': 1, 'timet?': 1, 'Summus': 1, 'plures': 1, 'dies': 1, 'manere': 1, 'potest?': 1, 'Dicet': 1, 'pro': 1, 'dubitabit': 1, 'isti': 1, 'vestro': 1, 'beato': 1, 'Tubulum': 1, 'fuisse,': 1, 'qua': 1, 'illum,': 1, 'cuius': 1, 'is': 1, 'condemnatus': 1, 'rogatione,': 1, 'P.': 1, 'sit,': 1, 'cur': 1, 'opera': 1, 'philosophiae': 1, 'danda': 1, 'nescio.': 1, 'Ex': 1, 'eorum': 1, 'scriptis': 1, 'institutis': 1, 'doctrina': 1, 'liberalis,': 1, 'historia.': 1, 'sequitur': 1, 'ipsum,': 1, 'velle': 1, 'video,': 1, 'omnes': 1, 'semper': 1, 'beatos': 1, 'sapientes.': 1, 'fertur': 1, 'quasi': 1, 'torrens': 1, 'oratio,': 1, 'quamvis': 1, 'multa': 1, 'cuiusque': 1, 'modi': 1, 'rapiat,': 1, 'teneas,': 1, 'apprehendas,': 1, 'nusquam': 1, 'orationem': 1, 'rapidam': 1, 'coerceas.': 1, 'Ita': 1, 'redarguitur': 1, 'ipse': 1, 'sese,': 1, 'convincunturque': 1, 'scripta': 1, 'eius': 1, 'probitate': 1, 'ipsius': 1, 'ac': 1, 'moribus.': 1, 'quanta': 1, 'conantur!': 1, 'Mundum': 1, 'hunc': 1, 'omnem': 1, 'oppidum': 1, 'nostrum!': 1, 'Incendi': 1, 'eos,': 1, 'audiunt,': 1, 'vides.': 1, 'Vide,': 1, 'magis,': 1, 'tuum': 1, 'fuerit,': 1, 're': 1, 'idem': 1, 'tibi,': 1, 'mihi,': 1, 'videretur,': 1, 'nova': 1, 'nomina': 1, 'inponere.': 1, 'Qui-vere': 1, 'falsone,': 1, 'quaerere': 1, 'mittimus-dicitur': 1, 'oculis': 1, 'privasse;': 1, 'Si': 1, 'mala': 1, 'potest': 1, 'incidere': 1, 'sapiens,': 1, 'sapientem': 1, 'vivendum': 1, 'satis.': 1, 'vitem': 1, 'sensus': 1, 'accesserit,': 1, 'appetitum': 1, 'quendam': 1, 'habeat': 1, 'per': 1, 'moveatur,': 1, 'facturam': 1, 'putas?': 1, 'Quem': 1, 'tenueris,': 1, 'meum': 1, 'Ciceronem,': 1, 'abducas': 1, 'licebit.': 1, 'Stulti': 1, 'malorum': 1, 'memoria': 1, 'torquentur,': 1, 'sapientes': 1, 'bona': 1, 'praeterita': 1, 'grata': 1, 'recordatione': 1, 'renovata': 1, 'delectant.': 1, 'Esse': 1, 'vellet': 1, 'iniquus': 1, 'iustus': 1, 'poterat': 1, 'inpune.': 1, 'suae': 1, 'institutionis': 1, 'oblita': 1, 'est?': 1, 'Verum': 1, 'de': 1, 'grandioribus': 1, 'ipsae': 1, 'res': 1, 'verba': 1, 'rapiunt;': 1, 'Hoc': 1, 'cor': 1, 'habere,': 1, 'palatum': 1, 'Voluptatem': 1, 'summum': 1, 'bonum': 1, 'diceret,': 1, 'primum': 1, 'eo': 1, 'ipso': 1, 'vidit,': 1, 'deinde': 1, 'hoc': 1, 'quoque': 1, 'alienum;': 1, 'tu': 1, 'istuc': 1, 'dixti': 1, 'bene': 1, 'Latine,': 1, 'plane.': 1, 'Nam': 1, 'erunt': 1, 'promptu,': 1, 'audivi,': 1, 'ante': 1, 'aggrediar,': 1, 'ab': 1, 'istis,': 1, 'quos': 1, 'dicis,': 1, 'instructum': 1, 'videro.': 1, 'Fatebuntur': 1, 'Stoici': 1, 'omnia': 1, 'dicta': 1, 'praeclare,': 1, 'neque': 1, 'eam': 1, 'causam': 1, 'Zenoni': 1, 'desciscendi': 1, 'fuisse.': 1, 'Non': 1, 'hoc:': 1, 'illud': 1, 'Ratio': 1, 'vestra': 1, 'sic': 1, 'cogit.': 1, 'audissem': 1, 'Antiochum,': 1, 'Brute,': 1, 'solebam,': 1, 'callida': 1, 'optime': 1, 'possit': 1, 'architectari': 1, 'voluptates?': 1, 'Idemne,': 1, 'iucunde?': 1, 'Haec': 1, 'videtur': 1, 'delicatior,': 1, 'dicam,': 1, 'molliorque': 1, 'ratio,': 1, 'virtutis': 1, 'vis': 1, 'gravitasque': 1, 'postulat.': 1, 'quoniam': 1, 'advesperascit': 1, 'villam': 1, 'revertendum': 1, 'nunc': 1, 'hactenus;': 1, 'Cuius': 1, 'naturam': 1, 'apta': 1, 'ratio': 1, 'vera': 1, 'illa': 1, 'summa': 1, 'lex': 1, 'philosophis': 1, 'dicitur.': 1, 'Neque': 1, 'solum': 1, 'communia,': 1, 'paria': 1, 'dixerunt.': 1, 'nunc,': 1, 'agimus;': 1, 'A': 1, 'mene': 1, 'tu?': 1})\n"
     ]
    }
   ],
   "source": [
    "#this returns the no of times each word occurs in the text file, the times it occured is sorted from \n",
    "# highest to the smallest\n",
    "with open('sample3.txt.copy','r') as ft:\n",
    "    jim = ft.read().split()\n",
    "    seconf_j = Counter(jim)\n",
    "    print(seconf_j)\n",
    "    "
   ]
  },
  {
   "cell_type": "code",
   "execution_count": null,
   "id": "656b5300",
   "metadata": {},
   "outputs": [],
   "source": []
  }
 ],
 "metadata": {
  "kernelspec": {
   "display_name": "Python 3",
   "language": "python",
   "name": "python3"
  },
  "language_info": {
   "codemirror_mode": {
    "name": "ipython",
    "version": 3
   },
   "file_extension": ".py",
   "mimetype": "text/x-python",
   "name": "python",
   "nbconvert_exporter": "python",
   "pygments_lexer": "ipython3",
   "version": "3.8.8"
  }
 },
 "nbformat": 4,
 "nbformat_minor": 5
}
